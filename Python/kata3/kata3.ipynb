{
 "cells": [
  {
   "cell_type": "code",
   "execution_count": 11,
   "metadata": {},
   "outputs": [
    {
     "name": "stdout",
     "output_type": "stream",
     "text": [
      "un asteroide se acerca a la tierra con velocidad de: 19km/s y tamaño: 19m\n"
     ]
    }
   ],
   "source": [
    "#Los asteroides de menos de 25 metros en su dimensión más grande probablemente se quemarán a medida que entren en la atmósfera de la Tierra.\n",
    "#Si una pieza de un asteroide que es más grande que 25 metros pero más pequeña que 1000 metros golpeara la Tierra, causaría mucho daño.\n",
    "#También discutimos en el ejercicio anterior que:\n",
    "\n",
    "#La velocidad del asteroide varía en función de lo cerca que esté del sol, y cualquier velocidad superior a 25 kilómetros por segundo (km/s) merece una advertencia.\n",
    "#Si un asteroide entra en la atmósfera de la Tierra a una velocidad mayor o igual a 20 km/s, a veces produce un rayo de luz que se puede ver desde la Tierra.\n",
    "\n",
    "#Variables\n",
    "VelAst = 255\n",
    "Tam =80\n",
    "\n",
    "if VelAst >25 and Tam >25:\n",
    "    print('un asteroide se acerca a la tierra con velocidad de: '+str(velocidadAsteroide)+'km/s y tamaño: '+str(tamañoAsteroide)+'m')\n",
    "elif VelAst >= 25:\n",
    "    print('Ira, una esterlla fugaz en el cielo')\n",
    "elif Tam >25 :\n",
    "    print(f\"Alerta Corre!... Asteroide de tamaño: {str(tamañoAsteroide)}\"  )\n",
    "else:\n",
    "    print(f\"todo bien\")"
   ]
  },
  {
   "cell_type": "code",
   "execution_count": null,
   "metadata": {},
   "outputs": [],
   "source": [
    "# Agrega el código para crear nuevas variables para la velocidad y el tamaño del asteroide\n",
    "velocidadAsteroide = 0\n",
    "tamañoAsteroide = 0\n",
    "# Para probar el código, prueba con varias velocidades y tamaños\n",
    "velocidadAsteroide = 19\n",
    "tamañoAsteroide = 19;\n",
    "# Escribe varias expresiones de prueba o combinaciones de expresiones de prueba para determinar qué mensaje se debe enviar a Tierra.\n",
    "if velocidadAsteroide > 25 and tamañoAsteroide > 25:\n",
    "    print('Huye, guapo, un asteroide se acerca a la tierra con velocidad de: '+str(velocidadAsteroide)+'km/s y tamaño: '+str(tamañoAsteroide)+'m')\n",
    "elif velocidadAsteroide >= 20:\n",
    "    print('Ira, una esterlla fugaz en el cielo')\n",
    "elif tamañoAsteroide > 25:\n",
    "    print('Alerta! un asteroide con tamaño de: '+str(tamañoAsteroide)+'m golpeara la Tierra')\n",
    "else:\n",
    "    print('Tranqui, mi pana, todo bien por aquí')"
   ]
  },
  {
   "cell_type": "code",
   "execution_count": null,
   "metadata": {},
   "outputs": [],
   "source": [
    "# Agrega el código para crear nuevas variables para la velocidad y el tamaño del asteroide\n",
    "# Para probar el código, prueba con varias velocidades y tamaños\n",
    "# Escribe varias expresiones de prueba o combinaciones de expresiones de prueba para determinar qué mensaje se debe enviar a Tierra.\n",
    "asteroide = 49\n",
    "if asteroide > 25:\n",
    "    print('¡Alerta! ¡Un asteroide se acerca a velocidades peligrosas!')\n",
    "else:\n",
    "    print('¡Sigue con tu día!')\n"
   ]
  }
 ],
 "metadata": {
  "interpreter": {
   "hash": "3c2b5eb1c99b117d84d9106b1fe34c15187733ffb302d10c2dfff7cccdf88843"
  },
  "kernelspec": {
   "display_name": "Python 3.10.2 64-bit",
   "language": "python",
   "name": "python3"
  },
  "language_info": {
   "codemirror_mode": {
    "name": "ipython",
    "version": 3
   },
   "file_extension": ".py",
   "mimetype": "text/x-python",
   "name": "python",
   "nbconvert_exporter": "python",
   "pygments_lexer": "ipython3",
   "version": "3.10.2"
  },
  "orig_nbformat": 4
 },
 "nbformat": 4,
 "nbformat_minor": 2
}
