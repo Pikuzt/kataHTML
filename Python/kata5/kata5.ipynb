{
 "cells": [
  {
   "cell_type": "code",
   "execution_count": 2,
   "metadata": {},
   "outputs": [
    {
     "name": "stdout",
     "output_type": "stream",
     "text": [
      "31\n",
      "19.251\n"
     ]
    }
   ],
   "source": [
    "#ejercicio 2\n",
    "\n",
    "# Almacenar las entradas del usuario\n",
    "valor1 = input('Introduzca la distancia del sol para el primer planeta en KM')\n",
    "valor2 = input('Introduzca la distancia desde el sol para el segundo planeta en KM')\n",
    "\n",
    "# Convierte las cadenas de ambos planetas a números enteros\n",
    "valor1 = int(valor1)\n",
    "valor2 = int(valor2)\n",
    "\n",
    "\n",
    "# Realizar el cálculo y determinar el valor absoluto\n",
    "km = valor2 - valor1\n",
    "print(km)\n",
    "\n",
    "# Convertir de KM a Millas\n",
    "_mi = km * 0.621\n",
    "print(abs(_mi))\n",
    "\n"
   ]
  },
  {
   "cell_type": "code",
   "execution_count": null,
   "metadata": {},
   "outputs": [],
   "source": [
    "##ejercicio 1\n",
    "\n",
    "dista1 = 149597870\n",
    "dista2 = 778547200\n",
    "\n",
    "\n",
    "# Calcular la distancia entre planetas\n",
    "\n",
    "km = dista2 - dista1\n",
    "print(km)\n",
    "\n",
    "_mi = km * 0.621\n",
    "print(_mi)\n"
   ]
  }
 ],
 "metadata": {
  "interpreter": {
   "hash": "3c2b5eb1c99b117d84d9106b1fe34c15187733ffb302d10c2dfff7cccdf88843"
  },
  "kernelspec": {
   "display_name": "Python 3.10.2 64-bit",
   "language": "python",
   "name": "python3"
  },
  "language_info": {
   "codemirror_mode": {
    "name": "ipython",
    "version": 3
   },
   "file_extension": ".py",
   "mimetype": "text/x-python",
   "name": "python",
   "nbconvert_exporter": "python",
   "pygments_lexer": "ipython3",
   "version": "3.10.2"
  },
  "orig_nbformat": 4
 },
 "nbformat": 4,
 "nbformat_minor": 2
}
